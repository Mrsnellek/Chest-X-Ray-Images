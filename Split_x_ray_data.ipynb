{
  "nbformat": 4,
  "nbformat_minor": 0,
  "metadata": {
    "kernelspec": {
      "display_name": "Python 3",
      "language": "python",
      "name": "python3"
    },
    "language_info": {
      "codemirror_mode": {
        "name": "ipython",
        "version": 3
      },
      "file_extension": ".py",
      "mimetype": "text/x-python",
      "name": "python",
      "nbconvert_exporter": "python",
      "pygments_lexer": "ipython3",
      "version": "3.7.3"
    },
    "colab": {
      "name": "Split_x-ray_data.ipynb",
      "provenance": [],
      "collapsed_sections": []
    }
  },
  "cells": [
    {
      "cell_type": "code",
      "metadata": {
        "id": "_l6D558Uxnrq",
        "colab_type": "code",
        "colab": {},
        "outputId": "c58e04a6-d2ef-4322-ede0-194f8eed38bb"
      },
      "source": [
        "from IPython.core.display import display, HTML\n",
        "display(HTML(\"<style>.container { width:95% !important; }</style>\"))"
      ],
      "execution_count": 0,
      "outputs": [
        {
          "output_type": "display_data",
          "data": {
            "text/html": [
              "<style>.container { width:95% !important; }</style>"
            ],
            "text/plain": [
              "<IPython.core.display.HTML object>"
            ]
          },
          "metadata": {
            "tags": []
          }
        }
      ]
    },
    {
      "cell_type": "code",
      "metadata": {
        "id": "W7pQWPE6xnr8",
        "colab_type": "code",
        "colab": {}
      },
      "source": [
        "\n",
        "import numpy as np\n",
        "import os, shutil\n",
        "from os.path import join\n",
        "import pandas as pd\n",
        "import random\n",
        "np.random.seed(42)"
      ],
      "execution_count": 0,
      "outputs": []
    },
    {
      "cell_type": "code",
      "metadata": {
        "id": "Y6vOT1oOxnsF",
        "colab_type": "code",
        "colab": {},
        "outputId": "4b2b4373-f0f3-4a2a-faf9-e76ae3466336"
      },
      "source": [
        "print('train pneumonia:', len(os.listdir('chest_xray/train/PNEUMONIA/')))\n",
        "print('train normal:', len(os.listdir('chest_xray/train/normal/')))\n",
        "\n",
        "print('validation pneumonia:', len(os.listdir('chest_xray/val/PNEUMONIA/')))\n",
        "print('validation normal:', len(os.listdir('chest_xray/val/normal/')))\n",
        "\n",
        "print('test pneumonia:', len(os.listdir('chest_xray/test/PNEUMONIA/')))\n",
        "print('test normal:',len(os.listdir('chest_xray/test/normal/')))"
      ],
      "execution_count": 0,
      "outputs": [
        {
          "output_type": "stream",
          "text": [
            "train pneumonia: 3876\n",
            "train normal: 1342\n",
            "validation pneumonia: 9\n",
            "validation normal: 9\n",
            "test pneumonia: 390\n",
            "test normal: 234\n"
          ],
          "name": "stdout"
        }
      ]
    },
    {
      "cell_type": "code",
      "metadata": {
        "id": "zYG5UKXvxnsP",
        "colab_type": "code",
        "colab": {},
        "outputId": "fe30ce89-17c5-42b1-fea4-5a476a2e0809"
      },
      "source": [
        "shutil.copytree('chest_xray', 'chest_xray_neat')"
      ],
      "execution_count": 0,
      "outputs": [
        {
          "output_type": "execute_result",
          "data": {
            "text/plain": [
              "'chest_xray_neat'"
            ]
          },
          "metadata": {
            "tags": []
          },
          "execution_count": 80
        }
      ]
    },
    {
      "cell_type": "code",
      "metadata": {
        "id": "ME12LlPpxnsX",
        "colab_type": "code",
        "colab": {}
      },
      "source": [
        "os.mkdir('chest_xray_neat/train/virus/')"
      ],
      "execution_count": 0,
      "outputs": []
    },
    {
      "cell_type": "code",
      "metadata": {
        "id": "BQMVvoOmxnsg",
        "colab_type": "code",
        "colab": {}
      },
      "source": [
        "os.mkdir('chest_xray_neat/train/bacteria/')"
      ],
      "execution_count": 0,
      "outputs": []
    },
    {
      "cell_type": "code",
      "metadata": {
        "id": "7wL4q4I2xnsn",
        "colab_type": "code",
        "colab": {}
      },
      "source": [
        "for fname in os.listdir('chest_xray_neat/train/PNEUMONIA/'):\n",
        "    if 'virus' in fname:\n",
        "        shutil.move(os.path.join('chest_xray_neat/train/PNEUMONIA/', fname), 'chest_xray_neat/train/virus/')"
      ],
      "execution_count": 0,
      "outputs": []
    },
    {
      "cell_type": "code",
      "metadata": {
        "id": "UFfqhy2exns1",
        "colab_type": "code",
        "colab": {}
      },
      "source": [
        "for fname in os.listdir('chest_xray_neat/train/PNEUMONIA/'):\n",
        "    if 'bacteria' in fname:\n",
        "        shutil.move(os.path.join('chest_xray_neat/train/PNEUMONIA/', fname), 'chest_xray_neat/train/bacteria/')"
      ],
      "execution_count": 0,
      "outputs": []
    },
    {
      "cell_type": "code",
      "metadata": {
        "id": "-4jecW6vxns6",
        "colab_type": "code",
        "colab": {}
      },
      "source": [
        "os.mkdir('chest_xray_neat/val/bacteria/')\n",
        "os.mkdir('chest_xray_neat/val/virus/')"
      ],
      "execution_count": 0,
      "outputs": []
    },
    {
      "cell_type": "code",
      "metadata": {
        "id": "xhb9PmyyxntB",
        "colab_type": "code",
        "colab": {}
      },
      "source": [
        "for fname in os.listdir('chest_xray_neat/val/PNEUMONIA/'):\n",
        "    if 'virus' in fname:\n",
        "        shutil.move(os.path.join('chest_xray_neat/val/PNEUMONIA/', fname), 'chest_xray_neat/val/virus/')"
      ],
      "execution_count": 0,
      "outputs": []
    },
    {
      "cell_type": "code",
      "metadata": {
        "id": "wTI8bT7bxntH",
        "colab_type": "code",
        "colab": {}
      },
      "source": [
        "for fname in os.listdir('chest_xray_neat/val/PNEUMONIA/'):\n",
        "    if 'bacteria' in fname:\n",
        "        shutil.move(os.path.join('chest_xray_neat/val/PNEUMONIA/', fname), 'chest_xray_neat/val/bacteria/')"
      ],
      "execution_count": 0,
      "outputs": []
    },
    {
      "cell_type": "code",
      "metadata": {
        "id": "vJ-Lxe8SxntR",
        "colab_type": "code",
        "colab": {}
      },
      "source": [
        "os.mkdir('chest_xray_neat/test/bacteria/')\n",
        "os.mkdir('chest_xray_neat/test/virus/')"
      ],
      "execution_count": 0,
      "outputs": []
    },
    {
      "cell_type": "code",
      "metadata": {
        "id": "rP6UBNurxntV",
        "colab_type": "code",
        "colab": {}
      },
      "source": [
        "for fname in os.listdir('chest_xray_neat/test/PNEUMONIA/'):\n",
        "    if 'virus' in fname:\n",
        "        shutil.move(os.path.join('chest_xray_neat/test/PNEUMONIA/', fname), 'chest_xray_neat/test/virus/')"
      ],
      "execution_count": 0,
      "outputs": []
    },
    {
      "cell_type": "code",
      "metadata": {
        "id": "pS9v3LgPxnta",
        "colab_type": "code",
        "colab": {}
      },
      "source": [
        "for fname in os.listdir('chest_xray_neat/test/PNEUMONIA/'):\n",
        "    if 'bacteria' in fname:\n",
        "        shutil.move(os.path.join('chest_xray_neat/test/PNEUMONIA/', fname), 'chest_xray_neat/test/bacteria/')"
      ],
      "execution_count": 0,
      "outputs": []
    },
    {
      "cell_type": "code",
      "metadata": {
        "id": "9EA2KwCGxntg",
        "colab_type": "code",
        "colab": {}
      },
      "source": [
        "rand_list = random.sample(os.listdir('chest_xray_neat/train/bacteria/'), 492)\n",
        "for f in rand_list:\n",
        "    shutil.move(os.path.join('chest_xray_neat/train/bacteria/', f), 'chest_xray_neat/val/bacteria/')"
      ],
      "execution_count": 0,
      "outputs": []
    },
    {
      "cell_type": "code",
      "metadata": {
        "id": "8UuiJ3PRxntl",
        "colab_type": "code",
        "colab": {}
      },
      "source": [
        "rand_list = random.sample(os.listdir('chest_xray_neat/train/virus/'), 345)\n",
        "for f in rand_list:\n",
        "    shutil.move(os.path.join('chest_xray_neat/train/virus/', f), 'chest_xray_neat/val/virus/')"
      ],
      "execution_count": 0,
      "outputs": []
    },
    {
      "cell_type": "code",
      "metadata": {
        "id": "6k26nZECxntq",
        "colab_type": "code",
        "colab": {}
      },
      "source": [
        "rand_list = random.sample(os.listdir('chest_xray_neat/train/NORMAL/'), 342)\n",
        "for f in rand_list:\n",
        "    shutil.move(os.path.join('chest_xray_neat/train/NORMAL/', f), 'chest_xray_neat/val/NORMAL/')"
      ],
      "execution_count": 0,
      "outputs": []
    },
    {
      "cell_type": "code",
      "metadata": {
        "id": "x1XIeH1Bxntw",
        "colab_type": "code",
        "colab": {}
      },
      "source": [
        "shutil.rmtree('chest_xray_neat/train/PNEUMONIA/')\n",
        "shutil.rmtree('chest_xray_neat/val/PNEUMONIA/')\n",
        "shutil.rmtree('chest_xray_neat/test/PNEUMONIA/')"
      ],
      "execution_count": 0,
      "outputs": []
    },
    {
      "cell_type": "code",
      "metadata": {
        "scrolled": true,
        "id": "MmaCq-Wnxnt0",
        "colab_type": "code",
        "colab": {},
        "outputId": "95a349c4-1803-4110-a54c-ab680cd1867d"
      },
      "source": [
        "print('train bacteria:', len(os.listdir('chest_xray_neat/train/bacteria/')))\n",
        "print('train virus:', len(os.listdir('chest_xray_neat/train/virus/')))\n",
        "print('train normal:', len(os.listdir('chest_xray_neat/train/normal/')))\n",
        "\n",
        "print('validation bacteria:', len(os.listdir('chest_xray_neat/val/bacteria/')))\n",
        "print('validation virus:', len(os.listdir('chest_xray_neat/val/virus/')))\n",
        "print('validation normal:', len(os.listdir('chest_xray_neat/val/normal/')))\n",
        "\n",
        "print('test bacteria:', len(os.listdir('chest_xray_neat/test/bacteria/')))\n",
        "print('test virus:', len(os.listdir('chest_xray_neat/test/virus/')))\n",
        "print('test normal:',len(os.listdir('chest_xray_neat/test/normal/')))"
      ],
      "execution_count": 0,
      "outputs": [
        {
          "output_type": "stream",
          "text": [
            "train bacteria: 2038\n",
            "train virus: 1000\n",
            "train normal: 1000\n",
            "validation bacteria: 500\n",
            "validation virus: 345\n",
            "validation normal: 351\n",
            "test bacteria: 242\n",
            "test virus: 148\n",
            "test normal: 234\n"
          ],
          "name": "stdout"
        }
      ]
    }
  ]
}